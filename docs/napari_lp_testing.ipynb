{
 "cells": [
  {
   "cell_type": "code",
   "execution_count": 1,
   "metadata": {},
   "outputs": [],
   "source": [
    "import napari\n",
    "import numpy as np\n",
    "import pandas as pd\n",
    "import napari_laptrack as npl\n"
   ]
  },
  {
   "cell_type": "code",
   "execution_count": 2,
   "metadata": {},
   "outputs": [],
   "source": [
    "img_data = np.array([\n",
    " [\n",
    "     [1, 0, 0, 0, 0],\n",
    "     [1, 2, 3, 0, 0],\n",
    "     [0, 0, 3, 0, 0],\n",
    " ], [\n",
    "     [0, 0, 0, 0, 0],\n",
    "     [1, 2, 3, 0, 0],\n",
    "     [0, 0, 0, 0, 0],\n",
    " ], [\n",
    "     [0, 0, 3, 0, 0],\n",
    "     [1, 2, 3, 0, 0],\n",
    "     [1, 0, 0, 0, 0],\n",
    " ]\n",
    "])"
   ]
  },
  {
   "cell_type": "code",
   "execution_count": 3,
   "metadata": {},
   "outputs": [],
   "source": [
    "img_data = img_data[:, np.newaxis,...]"
   ]
  },
  {
   "cell_type": "code",
   "execution_count": 4,
   "metadata": {},
   "outputs": [
    {
     "name": "stderr",
     "output_type": "stream",
     "text": [
      "c:\\Users\\somas\\mambaforge\\envs\\napari-laptrack-env\\lib\\site-packages\\napari\\plugins\\_plugin_manager.py:526: UserWarning: Plugin 'napari_laptrack' provided a non-callable type to `napari_experimental_provide_function`: <class 'magicgui.widgets._function_gui.FunctionGui'>. Function widget ignored.\n",
      "  warn(message=warn_message)\n"
     ]
    },
    {
     "data": {
      "text/plain": [
       "<Labels layer 'img_data [1]' at 0x241438cf0d0>"
      ]
     },
     "execution_count": 4,
     "metadata": {},
     "output_type": "execute_result"
    }
   ],
   "source": [
    "viewer = napari.Viewer()\n",
    "viewer.add_image(img_data)\n",
    "viewer.add_labels(img_data)"
   ]
  },
  {
   "cell_type": "code",
   "execution_count": 5,
   "metadata": {},
   "outputs": [
    {
     "name": "stdout",
     "output_type": "stream",
     "text": [
      "Computing overlap of frame 0 and 1\n",
      "Computing overlap of frame 1 and 2\n",
      "No centroids found in measured features; determining centroid using napari-skimage-regionprops...\n",
      "analyzing frame 0\n",
      "analyzing frame 1\n",
      "analyzing frame 2\n"
     ]
    }
   ],
   "source": [
    "npl.track_labels_overlap_based(viewer.layers[0], viewer.layers[1], viewer)"
   ]
  },
  {
   "cell_type": "code",
   "execution_count": null,
   "metadata": {},
   "outputs": [],
   "source": []
  }
 ],
 "metadata": {
  "kernelspec": {
   "display_name": "napari-laptrack-env",
   "language": "python",
   "name": "python3"
  },
  "language_info": {
   "codemirror_mode": {
    "name": "ipython",
    "version": 3
   },
   "file_extension": ".py",
   "mimetype": "text/x-python",
   "name": "python",
   "nbconvert_exporter": "python",
   "pygments_lexer": "ipython3",
   "version": "3.9.16"
  },
  "orig_nbformat": 4
 },
 "nbformat": 4,
 "nbformat_minor": 2
}
